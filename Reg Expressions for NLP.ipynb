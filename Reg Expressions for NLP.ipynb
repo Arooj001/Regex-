{
 "cells": [
  {
   "cell_type": "markdown",
   "id": "13ea8028",
   "metadata": {},
   "source": [
    "***Importing Library***"
   ]
  },
  {
   "cell_type": "code",
   "execution_count": 1,
   "id": "26c2ab9e",
   "metadata": {},
   "outputs": [],
   "source": [
    "import re"
   ]
  },
  {
   "cell_type": "markdown",
   "id": "3bc30f6e",
   "metadata": {},
   "source": [
    "# Regex Customer Support"
   ]
  },
  {
   "cell_type": "markdown",
   "id": "545920d8",
   "metadata": {},
   "source": [
    "***Retrieving Order Number***"
   ]
  },
  {
   "cell_type": "code",
   "execution_count": 11,
   "id": "faf3538e",
   "metadata": {},
   "outputs": [],
   "source": [
    "chat1='Customer: Hello, I am having an issue with my order # 6677889912'"
   ]
  },
  {
   "cell_type": "code",
   "execution_count": 12,
   "id": "4399c4fd",
   "metadata": {},
   "outputs": [
    {
     "data": {
      "text/plain": [
       "['6677889912']"
      ]
     },
     "execution_count": 12,
     "metadata": {},
     "output_type": "execute_result"
    }
   ],
   "source": [
    "pattern = 'order[^\\d]*(\\d*)'\n",
    "matches = re.findall(pattern, chat1)\n",
    "matches"
   ]
  },
  {
   "cell_type": "code",
   "execution_count": 13,
   "id": "67078727",
   "metadata": {},
   "outputs": [],
   "source": [
    "chat2='Cutomer: I have a problem with my order number 467823452'"
   ]
  },
  {
   "cell_type": "code",
   "execution_count": 14,
   "id": "cee331e7",
   "metadata": {},
   "outputs": [
    {
     "data": {
      "text/plain": [
       "['6677889912']"
      ]
     },
     "execution_count": 14,
     "metadata": {},
     "output_type": "execute_result"
    }
   ],
   "source": [
    "pattern = 'order[^\\d]*(\\d*)'\n",
    "matches = re.findall(pattern, chat1)\n",
    "matches"
   ]
  },
  {
   "cell_type": "code",
   "execution_count": 15,
   "id": "980ffe0e",
   "metadata": {},
   "outputs": [
    {
     "data": {
      "text/plain": [
       "['412889912']"
      ]
     },
     "execution_count": 15,
     "metadata": {},
     "output_type": "execute_result"
    }
   ],
   "source": [
    "chat3='Customer: My order 412889912 is having an issue, I was charged 300$ when online it says 280$'\n",
    "pattern = 'order[^\\d]*(\\d*)'\n",
    "matches = re.findall(pattern, chat3)\n",
    "matches"
   ]
  },
  {
   "cell_type": "markdown",
   "id": "4e4ac188",
   "metadata": {},
   "source": [
    "***Combining Pattern Match***"
   ]
  },
  {
   "cell_type": "code",
   "execution_count": 16,
   "id": "63e79868",
   "metadata": {},
   "outputs": [],
   "source": [
    "def get_pattern_match(pattern, text):\n",
    "    matches = re.findall(pattern, text)\n",
    "    if matches:\n",
    "        return matches[0]"
   ]
  },
  {
   "cell_type": "code",
   "execution_count": 17,
   "id": "e71be1b2",
   "metadata": {},
   "outputs": [
    {
     "data": {
      "text/plain": [
       "'6677889912'"
      ]
     },
     "execution_count": 17,
     "metadata": {},
     "output_type": "execute_result"
    }
   ],
   "source": [
    "get_pattern_match('order[^\\d]*(\\d*)', chat1)"
   ]
  },
  {
   "cell_type": "code",
   "execution_count": 18,
   "id": "79596685",
   "metadata": {},
   "outputs": [
    {
     "data": {
      "text/plain": [
       "'467823452'"
      ]
     },
     "execution_count": 18,
     "metadata": {},
     "output_type": "execute_result"
    }
   ],
   "source": [
    "get_pattern_match('order[^\\d]*(\\d*)', chat2)"
   ]
  },
  {
   "cell_type": "code",
   "execution_count": 19,
   "id": "14ae0681",
   "metadata": {},
   "outputs": [
    {
     "data": {
      "text/plain": [
       "'412889912'"
      ]
     },
     "execution_count": 19,
     "metadata": {},
     "output_type": "execute_result"
    }
   ],
   "source": [
    "get_pattern_match('order[^\\d]*(\\d*)', chat3)"
   ]
  },
  {
   "cell_type": "markdown",
   "id": "3897c776",
   "metadata": {},
   "source": [
    "***Retrieving Email ID and Phone #***"
   ]
  },
  {
   "cell_type": "code",
   "execution_count": 22,
   "id": "3fc40e51",
   "metadata": {},
   "outputs": [],
   "source": [
    "chat1 = 'Customer 1: you ask lot of questions 😠  1235678912, shayan@xyz.com'\n",
    "chat2 = 'Customer 2: here it is: (123)-567-8912, ahmed@xyz.ai'\n",
    "chat3 = 'Customer 3: yes, phone: 1235678912 email: abc1_2@xyz.io'"
   ]
  },
  {
   "cell_type": "markdown",
   "id": "bf2b9479",
   "metadata": {},
   "source": [
    "***Retrieving Email IDs***"
   ]
  },
  {
   "cell_type": "code",
   "execution_count": 23,
   "id": "cb29f880",
   "metadata": {},
   "outputs": [
    {
     "data": {
      "text/plain": [
       "'shayan@xyz.com'"
      ]
     },
     "execution_count": 23,
     "metadata": {},
     "output_type": "execute_result"
    }
   ],
   "source": [
    "get_pattern_match('[a-zA-Z0-9_]*@[a-z]*\\.[a-zA-Z0-9]*', chat1)"
   ]
  },
  {
   "cell_type": "code",
   "execution_count": 24,
   "id": "5b5abe3e",
   "metadata": {},
   "outputs": [
    {
     "data": {
      "text/plain": [
       "'ahmed@xyz.ai'"
      ]
     },
     "execution_count": 24,
     "metadata": {},
     "output_type": "execute_result"
    }
   ],
   "source": [
    "get_pattern_match('[a-zA-Z0-9_]*@[a-z]*\\.[a-zA-Z0-9]*', chat2)"
   ]
  },
  {
   "cell_type": "code",
   "execution_count": 25,
   "id": "3c12ddf6",
   "metadata": {},
   "outputs": [
    {
     "data": {
      "text/plain": [
       "'abc1_2@xyz.io'"
      ]
     },
     "execution_count": 25,
     "metadata": {},
     "output_type": "execute_result"
    }
   ],
   "source": [
    "get_pattern_match('[a-zA-Z0-9_]*@[a-z]*\\.[a-zA-Z0-9]*', chat3)"
   ]
  },
  {
   "cell_type": "markdown",
   "id": "70e7e994",
   "metadata": {},
   "source": [
    "***Retrieving Phone Numbers***"
   ]
  },
  {
   "cell_type": "code",
   "execution_count": 31,
   "id": "2bae2ba3",
   "metadata": {},
   "outputs": [
    {
     "data": {
      "text/plain": [
       "'1235678912'"
      ]
     },
     "execution_count": 31,
     "metadata": {},
     "output_type": "execute_result"
    }
   ],
   "source": [
    "get_pattern_match('(\\d{10})', chat1)"
   ]
  },
  {
   "cell_type": "code",
   "execution_count": 32,
   "id": "ab2abdd9",
   "metadata": {},
   "outputs": [
    {
     "data": {
      "text/plain": [
       "'(123)-567-8912'"
      ]
     },
     "execution_count": 32,
     "metadata": {},
     "output_type": "execute_result"
    }
   ],
   "source": [
    "get_pattern_match('(\\(\\d{3}\\)-\\d{3}-\\d{4})',chat2)"
   ]
  },
  {
   "cell_type": "code",
   "execution_count": 35,
   "id": "005d19c9",
   "metadata": {},
   "outputs": [
    {
     "data": {
      "text/plain": [
       "('1235678912', '')"
      ]
     },
     "execution_count": 35,
     "metadata": {},
     "output_type": "execute_result"
    }
   ],
   "source": [
    "get_pattern_match('(\\d{10})|(\\(\\d{3}\\)-\\d{3}-\\d{4})',chat3)"
   ]
  },
  {
   "cell_type": "markdown",
   "id": "ee7215c1",
   "metadata": {},
   "source": [
    "***Extracting Information***"
   ]
  },
  {
   "cell_type": "code",
   "execution_count": 36,
   "id": "9fbfdd7e",
   "metadata": {},
   "outputs": [],
   "source": [
    "text='''\n",
    "Born\tElon Reeve Musk\n",
    "June 28, 1971 (age 50)\n",
    "Pretoria, Transvaal, South Africa\n",
    "Citizenship\t\n",
    "South Africa (1971–present)\n",
    "Canada (1971–present)\n",
    "United States (2002–present)\n",
    "Education\tUniversity of Pennsylvania (BS, BA)\n",
    "Title\t\n",
    "Founder, CEO and Chief Engineer of SpaceX\n",
    "CEO and product architect of Tesla, Inc.\n",
    "Founder of The Boring Company and X.com (now part of PayPal)\n",
    "Co-founder of Neuralink, OpenAI, and Zip2\n",
    "Spouse(s)\t\n",
    "Justine Wilson\n",
    "​\n",
    "​(m. 2000; div. 2008)​\n",
    "Talulah Riley\n",
    "​\n",
    "​(m. 2010; div. 2012)​\n",
    "​\n",
    "​(m. 2013; div. 2016)\n",
    "'''"
   ]
  },
  {
   "cell_type": "code",
   "execution_count": 37,
   "id": "5169d1d5",
   "metadata": {},
   "outputs": [
    {
     "data": {
      "text/plain": [
       "'50'"
      ]
     },
     "execution_count": 37,
     "metadata": {},
     "output_type": "execute_result"
    }
   ],
   "source": [
    "get_pattern_match(r'age (\\d+)', text)"
   ]
  },
  {
   "cell_type": "code",
   "execution_count": 39,
   "id": "26d4f506",
   "metadata": {},
   "outputs": [
    {
     "data": {
      "text/plain": [
       "'Elon Reeve Musk'"
      ]
     },
     "execution_count": 39,
     "metadata": {},
     "output_type": "execute_result"
    }
   ],
   "source": [
    "get_pattern_match(r'Born(.*)\\n', text).strip()"
   ]
  },
  {
   "cell_type": "code",
   "execution_count": 43,
   "id": "54b98b12",
   "metadata": {},
   "outputs": [
    {
     "data": {
      "text/plain": [
       "'June 28, 1971'"
      ]
     },
     "execution_count": 43,
     "metadata": {},
     "output_type": "execute_result"
    }
   ],
   "source": [
    "get_pattern_match(r'Born.*\\n(.*)\\(age', text).strip()"
   ]
  },
  {
   "cell_type": "code",
   "execution_count": 44,
   "id": "0351cb4c",
   "metadata": {},
   "outputs": [
    {
     "data": {
      "text/plain": [
       "'Pretoria, Transvaal, South Africa'"
      ]
     },
     "execution_count": 44,
     "metadata": {},
     "output_type": "execute_result"
    }
   ],
   "source": [
    "get_pattern_match(r'\\(age.*\\n(.*)', text).strip()"
   ]
  },
  {
   "cell_type": "markdown",
   "id": "705a9b70",
   "metadata": {},
   "source": [
    "***Combining Pattern Match***"
   ]
  },
  {
   "cell_type": "code",
   "execution_count": 45,
   "id": "628aa2c9",
   "metadata": {},
   "outputs": [],
   "source": [
    "def extract_personal_information(text):\n",
    "    age = get_pattern_match(r'age (\\d+)', text)\n",
    "    full_name = get_pattern_match(r'Born(.*)\\n', text)\n",
    "    birth_date = get_pattern_match(r'Born.*\\n(.*)\\(age', text)\n",
    "    birth_place = get_pattern_match(r'\\(age.*\\n(.*)', text)\n",
    "    return {\n",
    "        'age' : int(age),\n",
    "        'name' : full_name.strip(),\n",
    "        'birth_date' : birth_date.strip(),\n",
    "        'birth_place' : birth_place.strip()\n",
    "    }"
   ]
  },
  {
   "cell_type": "code",
   "execution_count": 46,
   "id": "f445158c",
   "metadata": {},
   "outputs": [
    {
     "data": {
      "text/plain": [
       "{'age': 50,\n",
       " 'name': 'Elon Reeve Musk',\n",
       " 'birth_date': 'June 28, 1971',\n",
       " 'birth_place': 'Pretoria, Transvaal, South Africa'}"
      ]
     },
     "execution_count": 46,
     "metadata": {},
     "output_type": "execute_result"
    }
   ],
   "source": [
    "extract_personal_information(text)"
   ]
  },
  {
   "cell_type": "code",
   "execution_count": 50,
   "id": "87194e60",
   "metadata": {},
   "outputs": [],
   "source": [
    "text = '''\n",
    "Born\tMukesh Dhirubhai Ambani\n",
    "19 April 1957 (age 64)\n",
    "Aden, Colony of Aden\n",
    "(present-day Yemen)[1][2]\n",
    "Nationality\tIndian\n",
    "Alma mater\t\n",
    "St. Xavier's College, Mumbai\n",
    "Institute of Chemical Technology (B.E.)\n",
    "Stanford University (drop-out)\n",
    "Occupation\tChairman and MD, Reliance Industries\n",
    "Spouse(s)\tNita Ambani ​(m. 1985)​[3]\n",
    "Children\t3\n",
    "Parent(s)\t\n",
    "Dhirubhai Ambani (father)\n",
    "Kokilaben Ambani (mother)\n",
    "Relatives\tAnil Ambani (brother)\n",
    "Tina Ambani (sister-in-law)\n",
    "'''"
   ]
  },
  {
   "cell_type": "code",
   "execution_count": 51,
   "id": "3c675af9",
   "metadata": {},
   "outputs": [
    {
     "data": {
      "text/plain": [
       "{'age': 64,\n",
       " 'name': 'Mukesh Dhirubhai Ambani',\n",
       " 'birth_date': '19 April 1957',\n",
       " 'birth_place': 'Aden, Colony of Aden'}"
      ]
     },
     "execution_count": 51,
     "metadata": {},
     "output_type": "execute_result"
    }
   ],
   "source": [
    "extract_personal_information(text)"
   ]
  }
 ],
 "metadata": {
  "kernelspec": {
   "display_name": "Python 3 (ipykernel)",
   "language": "python",
   "name": "python3"
  },
  "language_info": {
   "codemirror_mode": {
    "name": "ipython",
    "version": 3
   },
   "file_extension": ".py",
   "mimetype": "text/x-python",
   "name": "python",
   "nbconvert_exporter": "python",
   "pygments_lexer": "ipython3",
   "version": "3.11.5"
  }
 },
 "nbformat": 4,
 "nbformat_minor": 5
}
